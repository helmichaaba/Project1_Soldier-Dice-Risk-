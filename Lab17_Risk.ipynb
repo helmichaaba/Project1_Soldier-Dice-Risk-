{
 "cells": [
  {
   "cell_type": "code",
   "execution_count": 17,
   "metadata": {},
   "outputs": [
    {
     "name": "stdout",
     "output_type": "stream",
     "text": [
      "Youngtimer, you go first !\n",
      "[5, 5, 5, 5, 5]\n",
      "25\n",
      "And now: it's your turn, older player ;-)\n",
      "[5, 5, 5, 5, 5]\n",
      "25\n",
      "And it's a tie ! Please play again soon...\n"
     ]
    }
   ],
   "source": [
    "import random\n",
    "\n",
    "#Setting the stage for a wonderful dice game (markdowns are always a good idea ;-)\n",
    "age1=int(input(\"Player 1, how old are you ?\"))\n",
    "age2=int(input(\"Player 2, how young are you ?\"))\n",
    "\n",
    "if age1<age2:\n",
    "    print(\"Youngtimer, it's your turn !\")\n",
    "else:\n",
    "    print(\"Youngtimer, you go first !\")\n",
    "\n",
    "\n",
    "#THE all-important roll_dice function !\n",
    "def roll_dice (num_dice):\n",
    "    dice_result=[]\n",
    "    for i in range (0,num_dice):\n",
    "        d=random.randint(1,6)\n",
    "        dice_result.append(d)\n",
    "    return dice_result\n",
    "\n",
    "#And now for the variable names, let's pick something my 7-year old boy will understand\n",
    "remain_number=5\n",
    "listofdice=[]\n",
    "resultset=[]\n",
    "\n",
    "#Younger player's turn starts... with the all important counter (to make sure no one rolls dice one time too many) !\n",
    "while remain_number>0:\n",
    "    result=roll_dice(remain_number)\n",
    "    \n",
    "    for i in range(len(result)):\n",
    "        if result[i]!=6:\n",
    "            listofdice.append(result[i])\n",
    "            \n",
    "        elif result[i]==6:\n",
    "            i +=1\n",
    "    \n",
    "    \n",
    "    m=max(listofdice)      \n",
    "    resultset.append(m)\n",
    "    remain_number -=1\n",
    "\n",
    "#Displaying younger player's result\n",
    "print(resultset)\n",
    "total_first_player = sum(resultset)\n",
    "print(total_first_player)\n",
    "\n",
    "#Older player's turn now\n",
    "print(\"And now: it's your turn, older player ;-)\")\n",
    "remain_number=5\n",
    "listofdice=[]\n",
    "resultset=[]\n",
    "\n",
    "while remain_number>0:\n",
    "    result=roll_dice(remain_number)\n",
    "    \n",
    "    for i in range(len(result)):\n",
    "        \n",
    "        if result[i]!=6:\n",
    "            listofdice.append(result[i])\n",
    "        elif result[i]==6:\n",
    "            i +=1\n",
    "                     \n",
    "    m=max(listofdice)      \n",
    "    resultset.append(m)\n",
    "    remain_number -=1\n",
    "    \n",
    "#Displaying older player's result\n",
    "print(resultset)\n",
    "total_second_player = sum(resultset)\n",
    "print(total_second_player) \n",
    "\n",
    "#And the winner is...\n",
    "if total_first_player > total_second_player:\n",
    "    print(\"Younger player wins... Congrats !\")\n",
    "elif total_first_player < total_second_player:\n",
    "    print(\"Oldie but goodie: you win !\")\n",
    "else:\n",
    "    print(\"And it's a tie ! Please play again soon...\")"
   ]
  }
 ],
 "metadata": {
  "interpreter": {
   "hash": "bc74c9efbb84f280ceaeeceeae8f315ec3f368be1dc370363a62f0ad4f42a571"
  },
  "kernelspec": {
   "display_name": "Python 3.9.10 64-bit (windows store)",
   "language": "python",
   "name": "python3"
  },
  "language_info": {
   "codemirror_mode": {
    "name": "ipython",
    "version": 3
   },
   "file_extension": ".py",
   "mimetype": "text/x-python",
   "name": "python",
   "nbconvert_exporter": "python",
   "pygments_lexer": "ipython3",
   "version": "3.9.10"
  },
  "orig_nbformat": 4
 },
 "nbformat": 4,
 "nbformat_minor": 2
}
